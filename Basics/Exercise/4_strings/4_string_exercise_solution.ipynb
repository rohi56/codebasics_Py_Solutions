{
  "nbformat": 4,
  "nbformat_minor": 0,
  "metadata": {
    "colab": {
      "provenance": [],
      "authorship_tag": "ABX9TyNjBSaMpGz6gpMEd+ZnA1RM"
    },
    "kernelspec": {
      "name": "python3",
      "display_name": "Python 3"
    },
    "language_info": {
      "name": "python"
    }
  },
  "cells": [
    {
      "cell_type": "markdown",
      "source": [
        "**Exercise: String in Python**"
      ],
      "metadata": {
        "id": "LkTF29GA8_dh"
      }
    },
    {
      "cell_type": "markdown",
      "source": [
        "1.Create 3 variables to store street, city and country, now create address variable to store entire address. Use two ways of creating this variable, one using + operator and the other using f-string. Now Print the address in such a way that the street, city and country prints in a separate line"
      ],
      "metadata": {
        "id": "rCPJYZ4o9CqD"
      }
    },
    {
      "cell_type": "code",
      "source": [
        "#solution\n",
        "street = \"GJMIT Gardens\"\n",
        "city =\"Bangalore\"\n",
        "country = \"India\"\n",
        "address = street + \"\\n\" + city + \"\\n\" + country\n",
        "print(address)\n",
        "\n",
        "print(\"------------------------------------------------------------------------\")\n",
        "\n",
        "address1 = f\"{street}\\n{city}\\n{country}\"\n",
        "print(address1)"
      ],
      "metadata": {
        "colab": {
          "base_uri": "https://localhost:8080/"
        },
        "id": "PZMSd40i9HZ1",
        "outputId": "a92a0f7b-559b-4aa0-eda7-9e1557b57103"
      },
      "execution_count": 4,
      "outputs": [
        {
          "output_type": "stream",
          "name": "stdout",
          "text": [
            "GJMIT Gardens\n",
            "Bangalore\n",
            "India\n",
            "------------------------------------------------------------------------\n",
            "GJMIT Gardens\n",
            "Bangalore\n",
            "India\n"
          ]
        }
      ]
    },
    {
      "cell_type": "markdown",
      "source": [
        "2.Create a variable to store the string \"Earth revolves around the sun\"\n",
        "Print \"revolves\" using slice operator\n",
        "Print \"sun\" using negative index"
      ],
      "metadata": {
        "id": "tZL0td1C-mi6"
      }
    },
    {
      "cell_type": "code",
      "source": [
        "string = \"Earth revolves around the sun\"\n",
        "rev = string[6:14]\n",
        "print(rev)\n",
        "sun = string[-3:]\n",
        "print(sun)"
      ],
      "metadata": {
        "colab": {
          "base_uri": "https://localhost:8080/"
        },
        "id": "E4Z6h7iu_KQF",
        "outputId": "de5a3813-7c70-4520-8780-88df09aef105"
      },
      "execution_count": 11,
      "outputs": [
        {
          "output_type": "stream",
          "name": "stdout",
          "text": [
            "revolves\n",
            "sun\n"
          ]
        }
      ]
    },
    {
      "cell_type": "markdown",
      "source": [
        "3.Create two variables to store how many fruits and vegetables you eat in a day. Now Print \"I eat x veggies and y fruits daily\" where x and y presents vegetables and fruits that you eat everyday. Use python f string for this."
      ],
      "metadata": {
        "id": "T_Or-6el_ZFK"
      }
    },
    {
      "cell_type": "code",
      "source": [
        "fruits = \"orange\"\n",
        "vegetables = \"potato\"\n",
        "print(f\"I eat {vegetables} veggies and {fruits} fruits daily\")"
      ],
      "metadata": {
        "colab": {
          "base_uri": "https://localhost:8080/"
        },
        "id": "H1DsGbEp_aOU",
        "outputId": "ac7169c5-52a8-4c02-cdd0-76146be2cb07"
      },
      "execution_count": 12,
      "outputs": [
        {
          "output_type": "stream",
          "name": "stdout",
          "text": [
            "I eat potato veggies and orange fruits daily\n"
          ]
        }
      ]
    },
    {
      "cell_type": "markdown",
      "source": [
        "4. I have a string variable called s='maine 200 banana khaye'. This of course is a wrong statement, the correct statement is 'maine 10 samosa khaye'. Replace incorrect words in original string with new ones and print the new string. Also try to do this in one line."
      ],
      "metadata": {
        "id": "xyXHDNKEAGrr"
      }
    },
    {
      "cell_type": "code",
      "source": [
        "s='maine 200 banana khaye'\n",
        "s = s.replace(\"200\",\"10\").replace(\"banana\",\"samosa\")\n",
        "print(s)"
      ],
      "metadata": {
        "colab": {
          "base_uri": "https://localhost:8080/"
        },
        "id": "eBj8mYsEAP9V",
        "outputId": "d479c827-c902-4387-895f-3aa0dbcf07e9"
      },
      "execution_count": 16,
      "outputs": [
        {
          "output_type": "stream",
          "name": "stdout",
          "text": [
            "maine 10 samosa khaye\n"
          ]
        }
      ]
    }
  ]
}