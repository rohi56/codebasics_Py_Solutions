{
  "nbformat": 4,
  "nbformat_minor": 0,
  "metadata": {
    "colab": {
      "provenance": [],
      "authorship_tag": "ABX9TyPIGwJsldQ1XiUDHhyntumb"
    },
    "kernelspec": {
      "name": "python3",
      "display_name": "Python 3"
    },
    "language_info": {
      "name": "python"
    }
  },
  "cells": [
    {
      "cell_type": "markdown",
      "source": [
        "**Exercise: Functions in python**"
      ],
      "metadata": {
        "id": "kWf8zxg8szke"
      }
    },
    {
      "cell_type": "markdown",
      "source": [
        "1.Write a function called calculate_area that takes base and height as an input and returns and area of a triangle. Equation of an area of a triangle is,\n",
        "\n",
        "area = (1/2)* base * height"
      ],
      "metadata": {
        "id": "MI9FdJO6s3vp"
      }
    },
    {
      "cell_type": "code",
      "source": [
        "def triangle_area(base,height):\n",
        "  area = (1/2)*base*height\n",
        "  return area\n",
        "\n",
        "triangle_area(8,10)"
      ],
      "metadata": {
        "colab": {
          "base_uri": "https://localhost:8080/"
        },
        "id": "etajJKhWtUy2",
        "outputId": "917a4e82-c9dc-49ea-dfe4-8f5467214e33"
      },
      "execution_count": 1,
      "outputs": [
        {
          "output_type": "execute_result",
          "data": {
            "text/plain": [
              "40.0"
            ]
          },
          "metadata": {},
          "execution_count": 1
        }
      ]
    },
    {
      "cell_type": "markdown",
      "source": [
        "2.Modify above function to take third parameter shape type. It can be either \"triangle\" or \"rectangle\". Based on shape type it will calculate area. Equation of rectangle's area is,\n",
        "\n",
        "rectangle area=length*width"
      ],
      "metadata": {
        "id": "M29tEqptueBL"
      }
    },
    {
      "cell_type": "code",
      "source": [
        "def calculate_area(base, height, shape_type= 'triangle'):\n",
        "    if shape_type == \"triangle\":\n",
        "        area = 0.5 * base * height\n",
        "    elif shape_type == \"rectangle\":\n",
        "        area = base * height\n",
        "    else:\n",
        "        area = 0.5 * base * height\n",
        "    return area\n",
        "\n",
        "calculate_area(10,20,\"rectangle\")\n",
        "\n",
        "calculate_area(30,20)"
      ],
      "metadata": {
        "colab": {
          "base_uri": "https://localhost:8080/"
        },
        "id": "APuAsEesuTzA",
        "outputId": "4a693ba3-5f18-46b4-94a6-34f23fea1966"
      },
      "execution_count": 10,
      "outputs": [
        {
          "output_type": "execute_result",
          "data": {
            "text/plain": [
              "300.0"
            ]
          },
          "metadata": {},
          "execution_count": 10
        }
      ]
    },
    {
      "cell_type": "markdown",
      "source": [
        "3.Write a function called print_pattern that takes integer number as an argument and prints following pattern if input number is 3,"
      ],
      "metadata": {
        "id": "btK2jJ1QvT3T"
      }
    },
    {
      "cell_type": "code",
      "source": [
        "*\n",
        "**\n",
        "***"
      ],
      "metadata": {
        "id": "v0WLZerVvWyb"
      },
      "execution_count": null,
      "outputs": []
    },
    {
      "cell_type": "markdown",
      "source": [
        "if input is 4 then it should print"
      ],
      "metadata": {
        "id": "rwJeUSrevYey"
      }
    },
    {
      "cell_type": "code",
      "source": [
        "*\n",
        "**\n",
        "***\n",
        "****"
      ],
      "metadata": {
        "id": "i8uGsPiGvaz2"
      },
      "execution_count": null,
      "outputs": []
    },
    {
      "cell_type": "code",
      "source": [
        "def print_pattern(n):\n",
        "  for i in range(1,n+1):\n",
        "    print('*'*i)\n",
        "\n",
        "print_pattern(5)"
      ],
      "metadata": {
        "colab": {
          "base_uri": "https://localhost:8080/"
        },
        "id": "pID2VmvJvhSF",
        "outputId": "637372cc-fdc0-4c0c-c8f9-df62314e3195"
      },
      "execution_count": 12,
      "outputs": [
        {
          "output_type": "stream",
          "name": "stdout",
          "text": [
            "*\n",
            "**\n",
            "***\n",
            "****\n",
            "*****\n"
          ]
        }
      ]
    }
  ]
}