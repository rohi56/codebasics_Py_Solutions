{
  "nbformat": 4,
  "nbformat_minor": 0,
  "metadata": {
    "colab": {
      "provenance": [],
      "authorship_tag": "ABX9TyO8TARSC2BCi9kJRZw3NFw3"
    },
    "kernelspec": {
      "name": "python3",
      "display_name": "Python 3"
    },
    "language_info": {
      "name": "python"
    }
  },
  "cells": [
    {
      "cell_type": "markdown",
      "source": [
        "## Exercise: Python Dict and Tuples\n",
        "\n",
        "1. We have following information on countries and their population (population is in crores),\n",
        "\n",
        "| Country  | Population |\n",
        "|----------|------------|\n",
        "| China    | 143        |\n",
        "| India    | 136        |\n",
        "| USA      | 32         |\n",
        "| Pakistan | 21         |\n",
        "\n",
        "    \n",
        "    1. Using above create a dictionary of countries and its population\n",
        "    2. Write a program that asks user for three type of inputs,\n",
        "        a. print: if user enter print then it should print all countries with their population in this format,\n",
        "            ```\n",
        "            china==>143\n",
        "            india==>136\n",
        "            usa==>32\n",
        "            pakistan==>21\n",
        "            ```\n",
        "        b. add: if user input add then it should further ask for a country name to add. If country already exist in our dataset then it should print that it exist and do nothing. If it doesn't then it asks for population and add that new country/population in our dictionary and print it\n",
        "        c. remove: when user inputs remove it should ask for a country to remove. If country exist in our dictionary then remove it and print new dictionary using format shown above in (a). Else print that country doesn't exist!\n",
        "        d. query: on this again ask user for which country he or she wants to query. When user inputs that country it will print population of that country.\n",
        "\n",
        "\n",
        "\n"
      ],
      "metadata": {
        "id": "3NI7D7Fhy2Gw"
      }
    },
    {
      "cell_type": "code",
      "source": [
        "d = {'China':143, 'India':136, 'USA':32, 'Pakistan':21}\n",
        "d"
      ],
      "metadata": {
        "colab": {
          "base_uri": "https://localhost:8080/"
        },
        "id": "ppo3ON4O2fJM",
        "outputId": "deed7274-a898-41b2-daf5-2372852fe3bf"
      },
      "execution_count": 2,
      "outputs": [
        {
          "output_type": "execute_result",
          "data": {
            "text/plain": [
              "{'China': 143, 'India': 136, 'USA': 32, 'Pakistan': 21}"
            ]
          },
          "metadata": {},
          "execution_count": 2
        }
      ]
    },
    {
      "cell_type": "code",
      "source": [
        "def d_function(value):\n",
        "    if value == 'print':\n",
        "        for k,v in d.items():\n",
        "            print(f'{k} ==> {v}')\n",
        "    elif value == 'add':\n",
        "        d_add = input('Enter country name to add: ')\n",
        "        if d_add in d:\n",
        "            print('Country already exist')\n",
        "        else:\n",
        "            d_pop = int(input('Enter population: '))\n",
        "            d[d_add] = d_pop\n",
        "            for k,v in d.items():\n",
        "                print(f'{k} ==> {v}')\n",
        "    elif value == 'remove':\n",
        "        d_remove = input('Enter country name to remove: ')\n",
        "        if d_remove in d:\n",
        "            d.pop(d_remove)\n",
        "            for k,v in d.items():\n",
        "                print(f'{k} ==> {v}')\n",
        "        else:\n",
        "            print('Country does not exist')\n",
        "    elif value == 'query':\n",
        "        d_query = input('Enter country name to query: ')\n",
        "        if d_query in d:\n",
        "            print(f'Population of {d_query} is {d[d_query]}')\n",
        "        else:\n",
        "            print('Country does not exist')\n",
        "    return d\n",
        "\n",
        "d_function('query')"
      ],
      "metadata": {
        "colab": {
          "base_uri": "https://localhost:8080/"
        },
        "id": "o7yqTwij28xI",
        "outputId": "c52eab95-1072-49f0-906f-5c2ef713af73"
      },
      "execution_count": 5,
      "outputs": [
        {
          "output_type": "stream",
          "name": "stdout",
          "text": [
            "Enter country name to query: China\n",
            "Population of China is 143\n"
          ]
        },
        {
          "output_type": "execute_result",
          "data": {
            "text/plain": [
              "{'China': 143, 'India': 136, 'USA': 32, 'Pakistan': 21}"
            ]
          },
          "metadata": {},
          "execution_count": 5
        }
      ]
    },
    {
      "cell_type": "markdown",
      "source": [
        "2. You are given following list of stocks and their prices in last 3 days,\n",
        "\n",
        "| Stock | Prices              |\n",
        "|-------|---------------------|\n",
        "| info  | [600, 630, 620]     |\n",
        "| ril   | [1430, 1490, 1567]  |\n",
        "| mtl   | [234, 180, 160]     |\n",
        "\n",
        "\n",
        "\n",
        "\n",
        "\n",
        "    1. Write a program that asks user for operation. Value of operations could be,\n",
        "        1. print: When user enters print it should print following,\n",
        "            ```\n",
        "            info ==> [600, 630, 620] ==> avg:  616.67\n",
        "            ril ==> [1430, 1490, 1567] ==> avg:  1495.67\n",
        "            mtl ==> [234, 180, 160] ==> avg:  191.33\n",
        "            ```\n",
        "        2. add: When user enters 'add', it asks for stock ticker and price. If stock already exist in your list (like info, ril etc) then it will append the price to the list. Otherwise it will create new entry in your dictionary. For example entering 'tata' and 560 will add tata ==> [560] to the dictionary of stocks.\n"
      ],
      "metadata": {
        "id": "IsGwo4gX00bd"
      }
    },
    {
      "cell_type": "markdown",
      "source": [
        "3. Write circle_calc() function that takes radius of a circle as an input from user and then it calculates and returns area, circumference and diameter. You should get these values in your main program by calling circle_calc function and then print them\n"
      ],
      "metadata": {
        "id": "8siKp-GF1LA4"
      }
    },
    {
      "cell_type": "code",
      "source": [
        "stock_prices = {\n",
        "    'info': [600, 630, 620],\n",
        "    'ril': [1430, 1490, 1567],\n",
        "    'mtl': [234, 180, 160]\n",
        "}\n",
        "stock_prices"
      ],
      "metadata": {
        "colab": {
          "base_uri": "https://localhost:8080/"
        },
        "id": "CmHCwj-n2V3g",
        "outputId": "ae493c40-082f-4f43-8b45-9b95ad644de3"
      },
      "execution_count": 1,
      "outputs": [
        {
          "output_type": "execute_result",
          "data": {
            "text/plain": [
              "{'info': [600, 630, 620], 'ril': [1430, 1490, 1567], 'mtl': [234, 180, 160]}"
            ]
          },
          "metadata": {},
          "execution_count": 1
        }
      ]
    },
    {
      "cell_type": "code",
      "source": [
        "op = input(\"Enter the operation you have to do (print/add): \").strip().lower()\n",
        "\n",
        "if op == 'print':\n",
        "    for stock, prices in stock_prices.items():\n",
        "        avg = sum(prices) / len(prices)\n",
        "        print(f\"{stock} ==> {prices} ==> avg: {avg:.2f}\")\n",
        "\n",
        "elif op == 'add':\n",
        "    stock = input(\"Enter stock: \").strip().lower()\n",
        "    try:\n",
        "        price = float(input(\"Enter stock price: \").strip())\n",
        "    except ValueError:\n",
        "        print(\"Invalid price. Please enter a number.\")\n",
        "    else:\n",
        "        if stock in stock_prices:\n",
        "            stock_prices[stock].append(price)\n",
        "        else:\n",
        "            stock_prices[stock] = [price]\n",
        "        print(f\"Updated: {stock} ==> {stock_prices[stock]}\")\n",
        "\n",
        "else:\n",
        "    print(\"Enter a valid input (print or add).\")"
      ],
      "metadata": {
        "colab": {
          "base_uri": "https://localhost:8080/"
        },
        "id": "f7Yxra_HqLuG",
        "outputId": "89e06808-cd89-4e88-a577-27266a860b0a"
      },
      "execution_count": 5,
      "outputs": [
        {
          "output_type": "stream",
          "name": "stdout",
          "text": [
            "Enter the operation you have to do (print/add): add\n",
            "Enter stock ticker: tata\n",
            "Enter stock price: 570\n",
            "Updated: tata ==> [560.0, 570.0]\n"
          ]
        }
      ]
    },
    {
      "cell_type": "markdown",
      "source": [
        "3.Write circle_calc() function that takes radius of a circle as an input from user and then it calculates and returns area, circumference and diameter. You should get these values in your main program by calling circle_calc function and then print them"
      ],
      "metadata": {
        "id": "UbbBsMbmylOI"
      }
    },
    {
      "cell_type": "code",
      "source": [
        "import math\n",
        "\n",
        "def  circle_calc(radius):\n",
        "  area = math.pi * radius ** 2\n",
        "  circumference = 2 * math.pi * radius\n",
        "  diameter = 2 * radius\n",
        "  return area, circumference, diameter\n",
        "\n",
        "n_area, n_circumference, n_diameter = circle_calc(15)\n",
        "print(f\"area :{n_area:.2f}, circumference :{n_circumference:.2f}, diameter :{n_diameter}\")\n"
      ],
      "metadata": {
        "colab": {
          "base_uri": "https://localhost:8080/"
        },
        "id": "3UiXe0Leym0H",
        "outputId": "41783b0c-9a59-4c38-803c-7db8231854e6"
      },
      "execution_count": 10,
      "outputs": [
        {
          "output_type": "stream",
          "name": "stdout",
          "text": [
            "area :706.86, circumference :94.25, diameter :30\n"
          ]
        }
      ]
    }
  ]
}