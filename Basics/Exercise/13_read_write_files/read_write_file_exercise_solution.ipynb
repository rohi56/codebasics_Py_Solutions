{
  "nbformat": 4,
  "nbformat_minor": 0,
  "metadata": {
    "colab": {
      "provenance": [],
      "authorship_tag": "ABX9TyN6nMRtk4Ipb/WjNQuseoXv"
    },
    "kernelspec": {
      "name": "python3",
      "display_name": "Python 3"
    },
    "language_info": {
      "name": "python"
    }
  },
  "cells": [
    {
      "cell_type": "markdown",
      "source": [
        "## Exercise: Python Read Write File\n",
        "1. [poem.txt](https://github.com/codebasics/py/blob/master/Basics/Exercise/13_read_write_files/poem.txt) contains famous poem \"Road not taken\" by poet Robert Frost. You have to read this file in your python program and find out words with maximum occurance.\n",
        "\n",
        "\n"
      ],
      "metadata": {
        "id": "cpED2qLIxUAX"
      }
    },
    {
      "cell_type": "code",
      "source": [
        "with open(\"poem.txt\") as f:\n",
        "    content = f.read()\n",
        "    words = content.split()\n",
        "    count = {}\n",
        "    for word in words:\n",
        "        if word in count:\n",
        "            count[word] += 1\n",
        "        else:\n",
        "            count[word] = 1\n",
        "    for key, value in count.items():\n",
        "        if value == max(count.values()):\n",
        "            print(key, value)"
      ],
      "metadata": {
        "colab": {
          "base_uri": "https://localhost:8080/"
        },
        "id": "48X7Jd9YxdNM",
        "outputId": "381ef8df-92bd-456c-d5d1-3d40aaea17d4"
      },
      "execution_count": 6,
      "outputs": [
        {
          "output_type": "stream",
          "name": "stdout",
          "text": [
            "I 8\n",
            "the 8\n"
          ]
        }
      ]
    },
    {
      "cell_type": "markdown",
      "source": [
        "2. [stocks.csv](https://github.com/codebasics/py/blob/master/Basics/Exercise/13_read_write_files/stocks.csv) contains stock price, earnings per share and book value. You are writing a stock market application that will process this file and create a new file\n",
        "with financial metrics such as pe ratio and price to book ratio. These are calculated as,\n",
        "```\n",
        "pe ratio = price / earnings per share\n",
        "price to book ratio = price / book value\n",
        "```\n",
        "\n",
        "\n",
        "Your input format (stocks.csv) is,\n",
        "\n",
        "|Company Name|Price|Earnings Per Share|Book Value|\n",
        "|-------|----------|-------|----------|\n",
        "|Reliance|1467|66|653|\n",
        "|Tata Steel|391|89|572|\n",
        "\n",
        "Output.csv should look like this,\n",
        "\n",
        "|Company Name|PE Ratio|PB Ratio|\n",
        "|-------|----------|-------|\n",
        "|Reliance|22.23|2.25|\n",
        "|Tata Steel|4.39|0.68|\n"
      ],
      "metadata": {
        "id": "J0UrArNFxbDA"
      }
    },
    {
      "cell_type": "code",
      "source": [
        "import csv\n",
        "\n",
        "with open(\"stocks.csv\", \"r\", newline='') as f, open(\"output.csv\", \"w\", newline='') as out:\n",
        "    reader = csv.reader(f)\n",
        "    writer = csv.writer(out)\n",
        "\n",
        "    next(reader)\n",
        "    writer.writerow([\"Company Name\", \"PE Ratio\", \"PB Ratio\"])  # Write header\n",
        "\n",
        "    for row in reader:\n",
        "        try:\n",
        "            stock = row[0].strip()\n",
        "            price = float(row[1])\n",
        "            eps = float(row[2])\n",
        "            book = float(row[3])\n",
        "            pe = round(price / eps, 2) if eps != 0 else \"N/A\"\n",
        "            pb = round(price / book, 2) if book != 0 else \"N/A\"\n",
        "            writer.writerow([stock, pe, pb])\n",
        "        except (IndexError, ValueError) as e:\n",
        "            continue\n",
        "\n",
        "\n"
      ],
      "metadata": {
        "id": "8eYQteT_1dgr"
      },
      "execution_count": 16,
      "outputs": []
    }
  ]
}