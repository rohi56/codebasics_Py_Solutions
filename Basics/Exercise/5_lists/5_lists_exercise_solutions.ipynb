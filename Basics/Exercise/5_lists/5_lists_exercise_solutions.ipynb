{
  "nbformat": 4,
  "nbformat_minor": 0,
  "metadata": {
    "colab": {
      "provenance": [],
      "authorship_tag": "ABX9TyMyWb0ZdmnpvZuRjJtP5Pbd"
    },
    "kernelspec": {
      "name": "python3",
      "display_name": "Python 3"
    },
    "language_info": {
      "name": "python"
    }
  },
  "cells": [
    {
      "cell_type": "markdown",
      "source": [
        "**Exercise: Python Lists**"
      ],
      "metadata": {
        "id": "YJinIVZVJO2t"
      }
    },
    {
      "cell_type": "markdown",
      "source": [
        "1.Let us say your expense for every month are listed below,\n",
        "\n",
        "January - 2200\n",
        "\n",
        "February - 2350\n",
        "\n",
        "March - 2600\n",
        "\n",
        "April - 2130\n",
        "\n",
        "May - 2190\n",
        "\n",
        "Create a list to store these monthly expenses and using that find out,\n",
        "\n",
        "1. In Feb, how many dollars you spent extra compare to January?\n",
        "2. Find out your total expense in first quarter (first three months) of the year.\n",
        "3. Find out if you spent exactly 2000 dollars in any month\n",
        "4. June month just finished and your expense is 1980 dollar. Add this item to our monthly expense list\n",
        "5. You returned an item that you bought in a month of April and\n",
        "got a refund of 200$. Make a correction to your monthly expense list\n",
        "based on this"
      ],
      "metadata": {
        "id": "w0086P6aJTmr"
      }
    },
    {
      "cell_type": "code",
      "source": [
        "expenses = [\"2200\",\"2650\",\"2600\",\"2130\",\"2190\"]\n",
        "expenses"
      ],
      "metadata": {
        "colab": {
          "base_uri": "https://localhost:8080/"
        },
        "id": "xSXAgLXfJXgr",
        "outputId": "13f71408-41eb-4be8-cb49-f57467fc73ca"
      },
      "execution_count": 1,
      "outputs": [
        {
          "output_type": "execute_result",
          "data": {
            "text/plain": [
              "['2200', '2650', '2600', '2130', '2190']"
            ]
          },
          "metadata": {},
          "execution_count": 1
        }
      ]
    },
    {
      "cell_type": "code",
      "source": [
        "extra_spent = int(expenses[1]) - int(expenses[0])\n",
        "extra_spent"
      ],
      "metadata": {
        "colab": {
          "base_uri": "https://localhost:8080/"
        },
        "id": "UtBa97wx-jLf",
        "outputId": "d4bdcc41-d5da-439d-a6d4-f815c7a704bc"
      },
      "execution_count": 2,
      "outputs": [
        {
          "output_type": "execute_result",
          "data": {
            "text/plain": [
              "450"
            ]
          },
          "metadata": {},
          "execution_count": 2
        }
      ]
    },
    {
      "cell_type": "code",
      "source": [
        "first_quarter = int(expenses[0]) + int(expenses[1]) + int(expenses[2])\n",
        "first_quarter"
      ],
      "metadata": {
        "colab": {
          "base_uri": "https://localhost:8080/"
        },
        "id": "f_hYfFCu-t1U",
        "outputId": "6a545755-d69a-415a-cad5-94a67f8c76f7"
      },
      "execution_count": 3,
      "outputs": [
        {
          "output_type": "execute_result",
          "data": {
            "text/plain": [
              "7450"
            ]
          },
          "metadata": {},
          "execution_count": 3
        }
      ]
    },
    {
      "cell_type": "code",
      "source": [
        "'2000' in expenses"
      ],
      "metadata": {
        "colab": {
          "base_uri": "https://localhost:8080/"
        },
        "id": "K9TN9_ku-1Mk",
        "outputId": "35e0b7f6-dcc4-4296-ecc0-11404ebb148d"
      },
      "execution_count": 4,
      "outputs": [
        {
          "output_type": "execute_result",
          "data": {
            "text/plain": [
              "False"
            ]
          },
          "metadata": {},
          "execution_count": 4
        }
      ]
    },
    {
      "cell_type": "code",
      "source": [
        "expenses.append('1980')\n",
        "expenses"
      ],
      "metadata": {
        "colab": {
          "base_uri": "https://localhost:8080/"
        },
        "id": "nXjKrrhg-82s",
        "outputId": "11d11551-e5c4-4dd4-dca8-d913a1760375"
      },
      "execution_count": 5,
      "outputs": [
        {
          "output_type": "execute_result",
          "data": {
            "text/plain": [
              "['2200', '2650', '2600', '2130', '2190', '1980']"
            ]
          },
          "metadata": {},
          "execution_count": 5
        }
      ]
    },
    {
      "cell_type": "code",
      "source": [
        "expenses[3] = str(int(expenses[3]) - 200)\n",
        "expenses"
      ],
      "metadata": {
        "colab": {
          "base_uri": "https://localhost:8080/"
        },
        "id": "l34mpolN_Ijv",
        "outputId": "b55249c5-b610-400c-f063-6e57b6ac2286"
      },
      "execution_count": 6,
      "outputs": [
        {
          "output_type": "execute_result",
          "data": {
            "text/plain": [
              "['2200', '2650', '2600', '1930', '2190', '1980']"
            ]
          },
          "metadata": {},
          "execution_count": 6
        }
      ]
    },
    {
      "cell_type": "markdown",
      "source": [
        "2. You have a list of your favourite marvel super heros.\n",
        "\n",
        "heros=['spider man','thor','hulk','iron man','captain america']\n",
        "\n",
        "Using this find out,\n",
        "\n",
        "1. Length of the list\n",
        "\n",
        "2. Add 'black panther' at the end of this list\n",
        "\n",
        "3. You realize that you need to add 'black panther' after 'hulk',\n",
        "   so remove it from the list first and then add it after 'hulk'\n",
        "\n",
        "4. Now you don't like thor and hulk because they get angry easily :)\n",
        "   So you want to remove thor and hulk from list and replace them with doctor strange (because he is cool).\n",
        "   Do that with one line of code.\n",
        "   \n",
        "5. Sort the heros list in alphabetical order (Hint. Use dir() functions to list down all functions available in list)"
      ],
      "metadata": {
        "id": "ICoTZg9f_zyH"
      }
    },
    {
      "cell_type": "code",
      "source": [
        "heros=['spider man','thor','hulk','iron man','captain america']\n",
        "heros"
      ],
      "metadata": {
        "colab": {
          "base_uri": "https://localhost:8080/"
        },
        "id": "HYvKlk1QADjb",
        "outputId": "faf570a8-b61f-4545-a5c4-d99332590f40"
      },
      "execution_count": 7,
      "outputs": [
        {
          "output_type": "execute_result",
          "data": {
            "text/plain": [
              "['spider man', 'thor', 'hulk', 'iron man', 'captain america']"
            ]
          },
          "metadata": {},
          "execution_count": 7
        }
      ]
    },
    {
      "cell_type": "code",
      "source": [
        "len(heros)"
      ],
      "metadata": {
        "colab": {
          "base_uri": "https://localhost:8080/"
        },
        "id": "dnVA_et7AOA0",
        "outputId": "dee9e66c-7579-4779-830d-7e0019990b75"
      },
      "execution_count": 8,
      "outputs": [
        {
          "output_type": "execute_result",
          "data": {
            "text/plain": [
              "5"
            ]
          },
          "metadata": {},
          "execution_count": 8
        }
      ]
    },
    {
      "cell_type": "code",
      "source": [
        "heros.append('black panther')\n",
        "heros"
      ],
      "metadata": {
        "colab": {
          "base_uri": "https://localhost:8080/"
        },
        "id": "U-EJpMKzARZi",
        "outputId": "cc178a41-a322-4a0a-941e-0441dc5b3d29"
      },
      "execution_count": 9,
      "outputs": [
        {
          "output_type": "execute_result",
          "data": {
            "text/plain": [
              "['spider man', 'thor', 'hulk', 'iron man', 'captain america', 'black panther']"
            ]
          },
          "metadata": {},
          "execution_count": 9
        }
      ]
    },
    {
      "cell_type": "code",
      "source": [
        "heros.remove('black panther')\n",
        "heros"
      ],
      "metadata": {
        "colab": {
          "base_uri": "https://localhost:8080/"
        },
        "id": "ngBqFkh6AYbF",
        "outputId": "4ba1a406-ee00-4089-ca9a-73800c35dcde"
      },
      "execution_count": 14,
      "outputs": [
        {
          "output_type": "execute_result",
          "data": {
            "text/plain": [
              "['spider man', 'thor', 'hulk', 'iron man', 'captain america']"
            ]
          },
          "metadata": {},
          "execution_count": 14
        }
      ]
    },
    {
      "cell_type": "code",
      "source": [
        "heros.insert(2,'black panther')\n",
        "heros"
      ],
      "metadata": {
        "colab": {
          "base_uri": "https://localhost:8080/"
        },
        "id": "--PrOTtrAfy7",
        "outputId": "8c3145b1-ffc2-43da-83f7-af33012356b7"
      },
      "execution_count": 15,
      "outputs": [
        {
          "output_type": "execute_result",
          "data": {
            "text/plain": [
              "['spider man', 'thor', 'black panther', 'hulk', 'iron man', 'captain america']"
            ]
          },
          "metadata": {},
          "execution_count": 15
        }
      ]
    },
    {
      "cell_type": "code",
      "source": [
        "heros = [hero for hero in heros if hero not in ['thor', 'hulk']] + ['doctor strange']\n",
        "heros"
      ],
      "metadata": {
        "colab": {
          "base_uri": "https://localhost:8080/"
        },
        "id": "G-2eSPm0BIom",
        "outputId": "39f5ab10-5cfb-4954-874f-69cc66d1c5f3"
      },
      "execution_count": 18,
      "outputs": [
        {
          "output_type": "execute_result",
          "data": {
            "text/plain": [
              "['spider man',\n",
              " 'black panther',\n",
              " 'iron man',\n",
              " 'captain america',\n",
              " 'doctor strange',\n",
              " 'doctor strange']"
            ]
          },
          "metadata": {},
          "execution_count": 18
        }
      ]
    },
    {
      "cell_type": "code",
      "source": [
        "heros.sort()\n",
        "heros"
      ],
      "metadata": {
        "colab": {
          "base_uri": "https://localhost:8080/"
        },
        "id": "z7v3kF7iCZAE",
        "outputId": "3ed52a9e-6f35-4a2e-ff1b-44a2e43302c3"
      },
      "execution_count": 21,
      "outputs": [
        {
          "output_type": "execute_result",
          "data": {
            "text/plain": [
              "['black panther',\n",
              " 'captain america',\n",
              " 'doctor strange',\n",
              " 'iron man',\n",
              " 'spider man']"
            ]
          },
          "metadata": {},
          "execution_count": 21
        }
      ]
    }
  ]
}