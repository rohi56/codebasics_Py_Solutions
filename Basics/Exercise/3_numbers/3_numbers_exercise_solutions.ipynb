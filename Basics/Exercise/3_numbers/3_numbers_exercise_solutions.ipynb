{
  "nbformat": 4,
  "nbformat_minor": 0,
  "metadata": {
    "colab": {
      "provenance": [],
      "authorship_tag": "ABX9TyNT8ekCsPdjxb/YEvRNDcO/",
      "include_colab_link": true
    },
    "kernelspec": {
      "name": "python3",
      "display_name": "Python 3"
    },
    "language_info": {
      "name": "python"
    }
  },
  "cells": [
    {
      "cell_type": "markdown",
      "metadata": {
        "id": "view-in-github",
        "colab_type": "text"
      },
      "source": [
        "<a href=\"https://colab.research.google.com/github/rohi56/codebasics_Py_Solutions/blob/master/Basics/Exercise/3_numbers/3_numbers_exercise_solutions.ipynb\" target=\"_parent\"><img src=\"https://colab.research.google.com/assets/colab-badge.svg\" alt=\"Open In Colab\"/></a>"
      ]
    },
    {
      "cell_type": "markdown",
      "source": [
        "**Exercise: Numbers in python**"
      ],
      "metadata": {
        "id": "pMFZeGlOejux"
      }
    },
    {
      "cell_type": "markdown",
      "source": [
        "1.You have a football field that is 92 meter long and 48.8 meter wide. Find out total area using python and print it."
      ],
      "metadata": {
        "id": "T-s17DpIeqfC"
      }
    },
    {
      "cell_type": "code",
      "source": [
        "#Solution\n",
        "l = 92\n",
        "w = 48.8\n",
        "area = l*w\n",
        "print(area)"
      ],
      "metadata": {
        "colab": {
          "base_uri": "https://localhost:8080/"
        },
        "id": "W5so1y98f0GM",
        "outputId": "45f9b541-fcca-4dd7-a6fd-4b4b966c153a"
      },
      "execution_count": 5,
      "outputs": [
        {
          "output_type": "stream",
          "name": "stdout",
          "text": [
            "4489.599999999999\n"
          ]
        }
      ]
    },
    {
      "cell_type": "markdown",
      "source": [
        "2.You bought 9 packets of potato chips from a store. Each packet costs 1.49 dollar and you gave shopkeeper 20 dollar. Find out using python, how many dollars is the shopkeeper going to give you back?"
      ],
      "metadata": {
        "id": "YsaHjMlwf7n6"
      }
    },
    {
      "cell_type": "code",
      "source": [
        "#Solution\n",
        "potato_chips=9\n",
        "costs=1.49\n",
        "money_given=20\n",
        "change = money_given-(potato_chips*costs)\n",
        "change"
      ],
      "metadata": {
        "colab": {
          "base_uri": "https://localhost:8080/"
        },
        "id": "i36Ln-RdgnOQ",
        "outputId": "906fa485-f441-4471-a96e-a0c5a1a89418"
      },
      "execution_count": 7,
      "outputs": [
        {
          "output_type": "execute_result",
          "data": {
            "text/plain": [
              "6.59"
            ]
          },
          "metadata": {},
          "execution_count": 7
        }
      ]
    },
    {
      "cell_type": "markdown",
      "source": [
        "3. You want to replace tiles in your bathroom which is exactly square and 5.5 feet is its length. If tiles cost 500 rs per square feet, how much will be the total cost to replace all tiles. Calculate and print the cost using python (Hint: Use power operator ** to find area of a square)"
      ],
      "metadata": {
        "id": "TaS0gkltgt3u"
      }
    },
    {
      "cell_type": "code",
      "source": [
        "#Solution\n",
        "area=5.5**2\n",
        "costs_tile=500\n",
        "total_cost=area*costs_tile\n",
        "total_cost"
      ],
      "metadata": {
        "colab": {
          "base_uri": "https://localhost:8080/"
        },
        "id": "GJ-ZlvEDgvdD",
        "outputId": "c9834cbb-e62e-4913-f442-f21ba2e35560"
      },
      "execution_count": 10,
      "outputs": [
        {
          "output_type": "execute_result",
          "data": {
            "text/plain": [
              "15125.0"
            ]
          },
          "metadata": {},
          "execution_count": 10
        }
      ]
    },
    {
      "cell_type": "markdown",
      "source": [
        "4.Print binary representation of number 17"
      ],
      "metadata": {
        "id": "DOu8aJo_hohj"
      }
    },
    {
      "cell_type": "code",
      "source": [
        "#Solution\n",
        "num=17\n",
        "print('Binary of number 17 is:',format(num,'b'))"
      ],
      "metadata": {
        "colab": {
          "base_uri": "https://localhost:8080/"
        },
        "id": "uCff1g9TiGNR",
        "outputId": "03d37f60-8dc5-4cef-efc5-e544228a4c5c"
      },
      "execution_count": 12,
      "outputs": [
        {
          "output_type": "stream",
          "name": "stdout",
          "text": [
            "Binary of number 17 is: 10001\n"
          ]
        }
      ]
    }
  ]
}