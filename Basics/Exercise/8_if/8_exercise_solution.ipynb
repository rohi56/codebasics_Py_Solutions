{
  "nbformat": 4,
  "nbformat_minor": 0,
  "metadata": {
    "colab": {
      "provenance": [],
      "authorship_tag": "ABX9TyMZiUHluXU2OFGeNbvnVV81"
    },
    "kernelspec": {
      "name": "python3",
      "display_name": "Python 3"
    },
    "language_info": {
      "name": "python"
    }
  },
  "cells": [
    {
      "cell_type": "markdown",
      "source": [
        "**Exercise: Python If Condition**"
      ],
      "metadata": {
        "id": "EeoT710WK4b4"
      }
    },
    {
      "cell_type": "markdown",
      "source": [
        "1.Using following list of cities per country\n",
        "\n",
        "india = [\"mumbai\", \"banglore\", \"chennai\", \"delhi\"]\n",
        "\n",
        "pakistan = [\"lahore\",\"karachi\",\"islamabad\"]\n",
        "\n",
        "bangladesh = [\"dhaka\", \"khulna\", \"rangpur\"]\n",
        "\n",
        "i.Write a program that asks user to enter a city name and it should tell which country the city belongs to\n",
        "\n",
        "ii.Write a program that asks user to enter two cities and it tells you if they both are in same country or not. For example if I enter mumbai and chennai, it will print \"Both cities are in India\" but if I enter mumbai and dhaka it should print \"They don't belong to same country\""
      ],
      "metadata": {
        "id": "ov4G5NeqK9Pu"
      }
    },
    {
      "cell_type": "code",
      "source": [
        "# i. solution:\n",
        "india = [\"mumbai\", \"banglore\", \"chennai\", \"delhi\"]\n",
        "\n",
        "pakistan = [\"lahore\",\"karachi\",\"islamabad\"]\n",
        "\n",
        "bangladesh = [\"dhaka\", \"khulna\", \"rangpur\"]\n",
        "\n",
        "city = input(\"Enter the name of the city: \")\n",
        "\n",
        "if city in india:\n",
        "  print(f\"{city} is in India\")\n",
        "elif city in pakistan:\n",
        "  print(f\"{city} is in Pakistan\")\n",
        "elif city in bangladesh:\n",
        "  print(f\"{city} is in Bangladesh\")\n",
        "else:\n",
        "  print(f\"{city} is not in any country\")\n"
      ],
      "metadata": {
        "colab": {
          "base_uri": "https://localhost:8080/"
        },
        "id": "l4Kxs0kVLQNF",
        "outputId": "7cbc6c98-f66e-40a5-ccf4-5cc16b6487e4"
      },
      "execution_count": 1,
      "outputs": [
        {
          "output_type": "stream",
          "name": "stdout",
          "text": [
            "Enter the name of the city: mumbai\n",
            "mumbai is in India\n"
          ]
        }
      ]
    },
    {
      "cell_type": "code",
      "source": [
        "# ii. solution:\n",
        "\n",
        "city = input(\"Enter the name of the city: \")\n",
        "city1 = input(\"Enter the name of the city: \")\n",
        "\n",
        "\n",
        "if city in india and city1 in india:\n",
        "    print(f\"{city} and {city1} are in India\")\n",
        "elif city in pakistan and city1 in pakistan:\n",
        "    print(f\"{city} and {city1} are in Pakistan\")\n",
        "elif city in bangladesh and city1 in bangladesh:\n",
        "    print(f\"{city} and {city1} are in Bangladesh\")\n",
        "else:\n",
        "    print(\"They don't belong to the same country\")"
      ],
      "metadata": {
        "colab": {
          "base_uri": "https://localhost:8080/"
        },
        "id": "fNk0Sm3UOcE_",
        "outputId": "157d439b-96b0-4813-9a97-92c2361b6f9d"
      },
      "execution_count": 6,
      "outputs": [
        {
          "output_type": "stream",
          "name": "stdout",
          "text": [
            "Enter the name of the city: mumbai\n",
            "Enter the name of the city: dhaka\n",
            "They don't belong to the same country\n"
          ]
        }
      ]
    },
    {
      "cell_type": "markdown",
      "source": [
        "2.Write a python program that can tell you if your sugar is normal or not. Normal fasting level sugar range is 80 to 100.\n",
        "\n",
        "i.Ask user to enter his fasting sugar level\n",
        "\n",
        "ii.If it is below 80 to 100 range then print that sugar is low\n",
        "\n",
        "iii.If it is above 100 then print that it is high otherwise print that it is normal"
      ],
      "metadata": {
        "id": "4inLoNRmSFfh"
      }
    },
    {
      "cell_type": "code",
      "source": [
        "sugar_level = float(input(\"enter fasting sugar level:\"))\n",
        "if sugar_level < 80:\n",
        "  print(\"sugar is low\")\n",
        "elif sugar_level > 100:\n",
        "  print(\"sugar is high\")\n",
        "else:\n",
        "  print(\"sugar is normal\")\n"
      ],
      "metadata": {
        "colab": {
          "base_uri": "https://localhost:8080/"
        },
        "id": "F9cDV9C5SmnW",
        "outputId": "a19b43b9-4c3d-4b4d-8064-0e34f27b0836"
      },
      "execution_count": 10,
      "outputs": [
        {
          "output_type": "stream",
          "name": "stdout",
          "text": [
            "enter fasting sugar level:77.5\n",
            "sugar is low\n"
          ]
        }
      ]
    }
  ]
}