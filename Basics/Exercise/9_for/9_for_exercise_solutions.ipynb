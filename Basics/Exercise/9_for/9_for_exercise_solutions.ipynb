{
  "nbformat": 4,
  "nbformat_minor": 0,
  "metadata": {
    "colab": {
      "provenance": [],
      "authorship_tag": "ABX9TyPmVr8g7TRNyheowM3wooK6"
    },
    "kernelspec": {
      "name": "python3",
      "display_name": "Python 3"
    },
    "language_info": {
      "name": "python"
    }
  },
  "cells": [
    {
      "cell_type": "markdown",
      "source": [
        "**Exercise: Python for loop**"
      ],
      "metadata": {
        "id": "F0Q-XORuth5v"
      }
    },
    {
      "cell_type": "markdown",
      "source": [
        "1.After flipping a coin 10 times you got this result,\n",
        "\n",
        "result = [\"heads\",\"tails\",\"tails\",\"heads\",\"tails\",\"heads\",\"heads\",\"tails\",\"tails\",\"tails\"]\n",
        "\n",
        "Using for loop figure out how many times you got heads"
      ],
      "metadata": {
        "id": "duIzOoRatl46"
      }
    },
    {
      "cell_type": "code",
      "source": [
        "result = [\"heads\",\"tails\",\"tails\",\"heads\",\"tails\",\"heads\",\"heads\",\"tails\",\"tails\",\"tails\"]\n",
        "heads_count = 0\n",
        "tails_count = 0\n",
        "for i in range(len(result)):\n",
        "  if result[i]== 'heads':\n",
        "    heads_count += 1\n",
        "  else:\n",
        "    tails_count += 1\n",
        "print(f\"Heads count is :{heads_count}\")\n",
        "print(f\"Tails count is : {tails_count}\")\n",
        ""
      ],
      "metadata": {
        "colab": {
          "base_uri": "https://localhost:8080/"
        },
        "id": "rvnq2lM6tvHm",
        "outputId": "106dce61-a059-45cb-f6c2-54fa0d25a6ed"
      },
      "execution_count": 3,
      "outputs": [
        {
          "output_type": "stream",
          "name": "stdout",
          "text": [
            "Heads count is :4\n",
            "Tails count is : 6\n"
          ]
        }
      ]
    },
    {
      "cell_type": "markdown",
      "source": [
        "2.Print square of all numbers between 1 to 10 except even numbers"
      ],
      "metadata": {
        "id": "KXbb0D626bVL"
      }
    },
    {
      "cell_type": "code",
      "source": [
        "for i in range(1,11):\n",
        "  if i%2 == 0:\n",
        "    continue\n",
        "  else:\n",
        "    print(i**2)"
      ],
      "metadata": {
        "colab": {
          "base_uri": "https://localhost:8080/"
        },
        "id": "-iUJfCzZ6dlH",
        "outputId": "256bbe95-c728-41df-8f8f-7b4fa0956d8a"
      },
      "execution_count": 4,
      "outputs": [
        {
          "output_type": "stream",
          "name": "stdout",
          "text": [
            "1\n",
            "9\n",
            "25\n",
            "49\n",
            "81\n"
          ]
        }
      ]
    },
    {
      "cell_type": "code",
      "source": [
        "for i in range(1,11):\n",
        "  if i%2 !=0:\n",
        "    print(f\"square of {i} is {i**2}\")"
      ],
      "metadata": {
        "colab": {
          "base_uri": "https://localhost:8080/"
        },
        "id": "NzvtyfeY7H1z",
        "outputId": "c1a9d34a-1ba7-4584-9bd7-1d68a7b9415b"
      },
      "execution_count": 5,
      "outputs": [
        {
          "output_type": "stream",
          "name": "stdout",
          "text": [
            "square of 1 is 1\n",
            "square of 3 is 9\n",
            "square of 5 is 25\n",
            "square of 7 is 49\n",
            "square of 9 is 81\n"
          ]
        }
      ]
    },
    {
      "cell_type": "markdown",
      "source": [
        "3.Your monthly expense list (from Jan to May) looks like this,\n",
        "\n",
        "expense_list = [2340, 2500, 2100, 3100, 2980]\n",
        "\n",
        "Write a program that asks you to enter an expense amount and program should tell you in which month that expense occurred. If expense is not found then it should print that as well."
      ],
      "metadata": {
        "id": "3j8X7rEr7uji"
      }
    },
    {
      "cell_type": "code",
      "source": [
        "expense_list = [2340, 2500, 2100, 3100, 2980]\n",
        "expense_amount = int(input(\"Enter the expense amount: \"))\n",
        "if expense_amount == expense_list[0]:\n",
        "    print(f\"{expense_amount} is for the month of January\")\n",
        "elif expense_amount == expense_list[1]:\n",
        "    print(f\"{expense_amount} is for the month of February\")\n",
        "elif expense_amount == expense_list[2]:\n",
        "    print(f\"{expense_amount} is for the month of March\")\n",
        "elif expense_amount == expense_list[3]:\n",
        "    print(f\"{expense_amount} is for the month of April\")\n",
        "elif expense_amount == expense_list[4]:\n",
        "    print(f\"{expense_amount} is for the month of May\")\n",
        "else:\n",
        "    print(f\"{expense_amount} is not form any month\")"
      ],
      "metadata": {
        "colab": {
          "base_uri": "https://localhost:8080/"
        },
        "id": "x4hdWOmz72b1",
        "outputId": "1439be84-f351-40a9-f401-7a97bdfc60ff"
      },
      "execution_count": 7,
      "outputs": [
        {
          "output_type": "stream",
          "name": "stdout",
          "text": [
            "Enter the expense amount: 2980\n",
            "2980 is for the month of May\n"
          ]
        }
      ]
    },
    {
      "cell_type": "code",
      "source": [
        "expense_list = [2340, 2500, 2100, 3100, 2980]\n",
        "months = [\"January\", \"February\", \"March\", \"April\", \"May\"]\n",
        "\n",
        "expense_amount = int(input(\"Enter the expense amount: \"))\n",
        "\n",
        "found = False\n",
        "for i in range(len(expense_list)):\n",
        "    if expense_amount == expense_list[i]:\n",
        "        print(f\"{expense_amount} is for the month of {months[i]}\")\n",
        "        found = True\n",
        "        break\n",
        "\n",
        "if not found:\n",
        "    print(f\"{expense_amount} is not from any month\")\n"
      ],
      "metadata": {
        "colab": {
          "base_uri": "https://localhost:8080/"
        },
        "id": "W9i2MXxx_Woe",
        "outputId": "5e0440bf-ddc4-45f3-82b3-0a9d327a72e7"
      },
      "execution_count": 10,
      "outputs": [
        {
          "output_type": "stream",
          "name": "stdout",
          "text": [
            "Enter the expense amount: 111111\n",
            "111111 is not from any month\n"
          ]
        }
      ]
    },
    {
      "cell_type": "markdown",
      "source": [
        "4.Lets say you are running a 5 km race. Write a program that,\n",
        "\n",
        "Upon completing each 1 km asks you \"are you tired?\"\n",
        "\n",
        "i. If you reply \"yes\" then it should break and print \"you didn't finish the race\"\n",
        "\n",
        "ii. If you reply \"no\" then it should continue and ask \"are you tired\" on every km\n",
        "\n",
        "iii. If you finish all 5 km then it should print congratulations message"
      ],
      "metadata": {
        "id": "KGTcqznaAKWc"
      }
    },
    {
      "cell_type": "code",
      "source": [
        "for i in range(1,6):\n",
        "  if i<=4:\n",
        "    print(f\"You have completed {i} KM\")\n",
        "    ans = input(\"Are you tired (yes/no):\")\n",
        "    if ans == \"yes\":\n",
        "      print(\"you didn't finish the race\")\n",
        "      break\n",
        "  else:\n",
        "      print(\"congratulations you have finished the race\")\n",
        "\n"
      ],
      "metadata": {
        "colab": {
          "base_uri": "https://localhost:8080/"
        },
        "id": "LN2VNoeLAbjf",
        "outputId": "e6d0cfea-d312-4f22-932d-7f1cdc391265"
      },
      "execution_count": 15,
      "outputs": [
        {
          "output_type": "stream",
          "name": "stdout",
          "text": [
            "You have completed 1 KM\n",
            "Are you tired (yes/no):no\n",
            "You have completed 2 KM\n",
            "Are you tired (yes/no):yes\n",
            "you didn't finish the race\n"
          ]
        }
      ]
    },
    {
      "cell_type": "markdown",
      "source": [
        "5.Write a program that prints following shape\n"
      ],
      "metadata": {
        "id": "AKBvF0W5G3-P"
      }
    },
    {
      "cell_type": "code",
      "source": [
        "*\n",
        "**\n",
        "***\n",
        "****\n",
        "*****"
      ],
      "metadata": {
        "id": "zpOWNMK4HIzi"
      },
      "execution_count": null,
      "outputs": []
    },
    {
      "cell_type": "code",
      "source": [
        "for i in range(1,6):\n",
        "  print('*'*i)"
      ],
      "metadata": {
        "colab": {
          "base_uri": "https://localhost:8080/"
        },
        "id": "-BiHxn_bHM0-",
        "outputId": "0e7a7827-76c1-4b3c-9f38-3f29aed832aa"
      },
      "execution_count": 18,
      "outputs": [
        {
          "output_type": "stream",
          "name": "stdout",
          "text": [
            "*\n",
            "**\n",
            "***\n",
            "****\n",
            "*****\n"
          ]
        }
      ]
    }
  ]
}