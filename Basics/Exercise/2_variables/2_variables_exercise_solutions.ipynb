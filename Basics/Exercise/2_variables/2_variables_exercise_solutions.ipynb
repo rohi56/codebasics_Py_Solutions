{
 "cells": [
  {
   "cell_type": "markdown",
   "metadata": {},
   "source": [
    "# Exercise: Python Variables"
   ]
  },
  {
   "cell_type": "markdown",
   "metadata": {},
   "source": [
    "#### 1. Create a variable called break and assign it a value 5. See what happens and find out the reason behind the behavior that you see."
   ]
  },
  {
   "cell_type": "code",
   "execution_count": 1,
   "metadata": {},
   "outputs": [
    {
     "ename": "SyntaxError",
     "evalue": "invalid syntax (2709188746.py, line 1)",
     "output_type": "error",
     "traceback": [
      "\u001b[1;36m  Cell \u001b[1;32mIn[1], line 1\u001b[1;36m\u001b[0m\n\u001b[1;33m    break = 5\u001b[0m\n\u001b[1;37m          ^\u001b[0m\n\u001b[1;31mSyntaxError\u001b[0m\u001b[1;31m:\u001b[0m invalid syntax\n"
     ]
    }
   ],
   "source": [
    "break = 5"
   ]
  },
  {
   "cell_type": "markdown",
   "metadata": {},
   "source": [
    "#### Answer : We cannot use ' break ' because it's an Python Keyword."
   ]
  },
  {
   "cell_type": "markdown",
   "metadata": {},
   "source": [
    "#### 2. Create two variables. One to store your birth year and another one to store current year. Now calculate your age using these two variables"
   ]
  },
  {
   "cell_type": "code",
   "execution_count": 2,
   "metadata": {},
   "outputs": [
    {
     "name": "stdout",
     "output_type": "stream",
     "text": [
      "33\n"
     ]
    }
   ],
   "source": [
    "birth_year = 1992\n",
    "current_year = 2025\n",
    "Age = current_year - birth_year\n",
    "print(Age)"
   ]
  },
  {
   "cell_type": "markdown",
   "metadata": {},
   "source": [
    "##### Answer: 33\n",
    "##### Explanation: The code calculates the age by subtracting the birth year from the current year. In this case, the birth year is 1992 and the current year is 2025, so the age is 2025 - 1992 = 33."
   ]
  },
  {
   "cell_type": "markdown",
   "metadata": {},
   "source": [
    "#### 3. Store your first, middle and last name in three different variables and then print your full name using these variables"
   ]
  },
  {
   "cell_type": "code",
   "execution_count": 4,
   "metadata": {},
   "outputs": [
    {
     "name": "stdout",
     "output_type": "stream",
     "text": [
      "Rohit Dharmapal Ramteke\n"
     ]
    }
   ],
   "source": [
    "first = 'Rohit'\n",
    "middle = 'Dharmapal'\n",
    "last = 'Ramteke'\n",
    "print(first + ' ' + middle + ' ' + last)"
   ]
  },
  {
   "cell_type": "markdown",
   "metadata": {},
   "source": [
    "##### Answer : Rohit Dharmapal Ramteke\n",
    "##### Explanation : The first, middle, and last name are concatenated using the + operator and printed."
   ]
  },
  {
   "cell_type": "markdown",
   "metadata": {},
   "source": [
    "#### 4. Answer which of these are invalid variable names: _nation 1record record1 record_one record-one record^one continue"
   ]
  },
  {
   "cell_type": "markdown",
   "metadata": {},
   "source": [
    "##### Answer: 1record, record-one, record^one, continue are invalid Variable names\n",
    "##### Explanation: Variable names can only contain letters, numbers, and underscores. They can't start with a number or contain any spaces or special characters."
   ]
  },
  {
   "cell_type": "code",
   "execution_count": null,
   "metadata": {},
   "outputs": [],
   "source": []
  }
 ],
 "metadata": {
  "kernelspec": {
   "display_name": "Python 3",
   "language": "python",
   "name": "python3"
  },
  "language_info": {
   "codemirror_mode": {
    "name": "ipython",
    "version": 3
   },
   "file_extension": ".py",
   "mimetype": "text/x-python",
   "name": "python",
   "nbconvert_exporter": "python",
   "pygments_lexer": "ipython3",
   "version": "3.13.0"
  }
 },
 "nbformat": 4,
 "nbformat_minor": 2
}
